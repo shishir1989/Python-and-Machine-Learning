{
 "cells": [
  {
   "cell_type": "markdown",
   "metadata": {
    "id": "0WISSVU_0vA4"
   },
   "source": [
    "## Python List\n",
    "- Python List falls under the compound data types i.e. they are composed of one or more basic data types.\n",
    "- It means, A List is a sequence collection of different objects such as integers, strings, and even other lists as well.\n",
    "- Python Lists are represented with square brackets.\n",
    "  - Example: `[\"item1\", 2, \"item3\", 4.0]`\n",
    "- Unlike array, List can store data of multiple data types like string, integer, float, etc.\n",
    "- Python Lists are also an ordered sequences.\n",
    "  - It means the items have a defined order, and that order will not change.\n",
    "  - If you add new items to a list, the new items will be placed at the end of the list.\n",
    "\n",
    "- Unlike Strings, Lists are mutable meaning, we can change, add, and remove items in a list after  it is created.\n",
    "\n",
    "- Similar to Strings, we can perform loop through items in a list.\n",
    "\n",
    "- In this lecture we'll cover:\n",
    "  - Creating Lists\n",
    "  - Indexing Lists\n",
    "  - Slicing Lists\n",
    "  - Lists are mutable\n",
    "  - List methods\n",
    "  - Join Lists\n",
    "  - Loop Lists\n",
    "  - List Comprehension\n",
    "  - List exercise\n",
    "\n"
   ]
  },
  {
   "cell_type": "markdown",
   "metadata": {
    "id": "85C1oeFlZFFb"
   },
   "source": [
    "### 1. Creating Lists\n",
    "- To create a list, type the list items within square brackets **[]**, separated by commas.\n",
    "- Example: [\"item1\", 2, 'item3', 4]\n",
    "\n",
    "- List can be categorized into 2 types:\n",
    "  1. simple list:\n",
    "    - Example: [1, 2, 3, 4]\n",
    "  2. Nested list: \n",
    "    - They list within list.\n",
    "    - Also called as 2D list.\n",
    "    - Example: [[1, 2], [3, 4]]"
   ]
  },
  {
   "cell_type": "code",
   "execution_count": 15,
   "metadata": {
    "id": "sMObrplAty-l"
   },
   "outputs": [
    {
     "name": "stdout",
     "output_type": "stream",
     "text": [
      "[1, 'hello', 3.14, 4]\n"
     ]
    }
   ],
   "source": [
    "# create simple list with mixed data types\n",
    "x=[1,\"hello\",3.14,4]\n",
    "print(x)"
   ]
  },
  {
   "cell_type": "code",
   "execution_count": 16,
   "metadata": {
    "id": "QFDYxsMEa--R"
   },
   "outputs": [
    {
     "data": {
      "text/plain": [
       "list"
      ]
     },
     "execution_count": 16,
     "metadata": {},
     "output_type": "execute_result"
    }
   ],
   "source": [
    "# display type \n",
    "type(x)"
   ]
  },
  {
   "cell_type": "code",
   "execution_count": 17,
   "metadata": {
    "id": "YYsBr6U8bBTx"
   },
   "outputs": [
    {
     "name": "stdout",
     "output_type": "stream",
     "text": [
      "4\n"
     ]
    }
   ],
   "source": [
    "# display length of list\n",
    "# Hint: len(list)\n",
    "print(len(x))"
   ]
  },
  {
   "cell_type": "code",
   "execution_count": 18,
   "metadata": {
    "id": "9jreGt6XaonV"
   },
   "outputs": [
    {
     "name": "stdout",
     "output_type": "stream",
     "text": [
      "[[1, 2, 3], ['apple', 'orange']]\n"
     ]
    }
   ],
   "source": [
    "# create nested list\n",
    "nested_list=[[1,2,3],[\"apple\",\"orange\"]]\n",
    "print(nested_list)"
   ]
  },
  {
   "cell_type": "code",
   "execution_count": 19,
   "metadata": {
    "id": "-IdxGufFbI-v"
   },
   "outputs": [
    {
     "data": {
      "text/plain": [
       "list"
      ]
     },
     "execution_count": 19,
     "metadata": {},
     "output_type": "execute_result"
    }
   ],
   "source": [
    "# display type of nested list\n",
    "type(nested_list)"
   ]
  },
  {
   "cell_type": "code",
   "execution_count": 20,
   "metadata": {
    "id": "k2yyoljkbT2i"
   },
   "outputs": [
    {
     "data": {
      "text/plain": [
       "2"
      ]
     },
     "execution_count": 20,
     "metadata": {},
     "output_type": "execute_result"
    }
   ],
   "source": [
    "# display length of nested list\n",
    "# Hint: len() \n",
    "len(nested_list)"
   ]
  },
  {
   "cell_type": "markdown",
   "metadata": {
    "id": "c9OUQWAPataU"
   },
   "source": [
    "**List creation from Strings**\n",
    "- use .split() method"
   ]
  },
  {
   "cell_type": "code",
   "execution_count": 21,
   "metadata": {
    "id": "phvFsyBMaq1m"
   },
   "outputs": [
    {
     "name": "stdout",
     "output_type": "stream",
     "text": [
      "['hello', 'world!', 'How', 'are', 'you', 'today?']\n"
     ]
    }
   ],
   "source": [
    "# Initialize any non-empty string\n",
    "#\n",
    "# split string to create list\n",
    "\n",
    "original_string=\"hello world! How are you today?\"\n",
    "#split the string to create a list\n",
    "split_list=original_string.split()\n",
    "print(split_list)"
   ]
  },
  {
   "cell_type": "markdown",
   "metadata": {
    "id": "iqzPQj7PcIDw"
   },
   "source": [
    "###2. Indexing Lists\n",
    "- Indexing works similar to that of Strings.\n",
    "- As we know, list is a sequenced collection of different objects such as Strings, Integer, etc.\n",
    "- The address of each element within a list is called an index.\n",
    "- An index is used to access and refer to items within a list.\n",
    "\n",
    "  <img src='https://drive.google.com/uc?id=1SB5gGtnvQp3Fx0gG9YruM4VgmAe-HDQc' width='400'>"
   ]
  },
  {
   "cell_type": "markdown",
   "metadata": {
    "id": "tP0OjAXyfYWK"
   },
   "source": [
    "**positive indexing**"
   ]
  },
  {
   "cell_type": "code",
   "execution_count": 22,
   "metadata": {
    "id": "9OFP2Q4na5aj"
   },
   "outputs": [],
   "source": [
    "# initialize simple list of length 5\n",
    "L=[1,2,3,4,5]"
   ]
  },
  {
   "cell_type": "code",
   "execution_count": 23,
   "metadata": {
    "id": "88JpuB4VfTAb"
   },
   "outputs": [
    {
     "name": "stdout",
     "output_type": "stream",
     "text": [
      "1\n"
     ]
    }
   ],
   "source": [
    "# print 1st item using positive index\n",
    "print(L[0])"
   ]
  },
  {
   "cell_type": "code",
   "execution_count": 24,
   "metadata": {
    "id": "P17NrmdOfh4m"
   },
   "outputs": [
    {
     "name": "stdout",
     "output_type": "stream",
     "text": [
      "3\n"
     ]
    }
   ],
   "source": [
    "# print 3rd item using positive index\n",
    "print(L[2])"
   ]
  },
  {
   "cell_type": "code",
   "execution_count": 25,
   "metadata": {
    "id": "BNI0AwLnfjbI"
   },
   "outputs": [
    {
     "name": "stdout",
     "output_type": "stream",
     "text": [
      "5\n"
     ]
    }
   ],
   "source": [
    "# print last item using positive index\n",
    "print(L[4])"
   ]
  },
  {
   "cell_type": "markdown",
   "metadata": {
    "id": "ncBm4Tatf1lT"
   },
   "source": [
    "`Now lets try to index nested list`"
   ]
  },
  {
   "cell_type": "code",
   "execution_count": 26,
   "metadata": {
    "id": "h5gMz6-sf69J"
   },
   "outputs": [
    {
     "name": "stdout",
     "output_type": "stream",
     "text": [
      "[[8, 9], [4, 5, 6], [1, 2, 3, 4], [7, 8, 9], [1, 9, 8, 9]]\n"
     ]
    }
   ],
   "source": [
    "# initialize nested list of length 5\n",
    "nested_list=[[8,9],[4,5,6],[1,2,3,4],[7,8,9],[1,9,8,9]]\n",
    "print(nested_list)"
   ]
  },
  {
   "cell_type": "code",
   "execution_count": 27,
   "metadata": {
    "id": "l5uGmzYRf-HX"
   },
   "outputs": [
    {
     "name": "stdout",
     "output_type": "stream",
     "text": [
      "3\n"
     ]
    }
   ],
   "source": [
    "# practice indexing\n",
    "\n",
    "print(nested_list[2][2])"
   ]
  },
  {
   "cell_type": "markdown",
   "metadata": {
    "id": "bym4xzegfoIm"
   },
   "source": [
    "**negative indexing**"
   ]
  },
  {
   "cell_type": "code",
   "execution_count": 28,
   "metadata": {
    "id": "63WwU6Oifk5i"
   },
   "outputs": [
    {
     "name": "stdout",
     "output_type": "stream",
     "text": [
      "[[1, 2], [2, 3, 4], [1, 9, 8, 9], [1, 8], [2, 0]]\n"
     ]
    }
   ],
   "source": [
    "# reinitialize simple list of length 5\n",
    "simple_list=[[1,2],[2,3,4],[1,9,8,9],[1,8],[2,0]]\n",
    "print(simple_list)"
   ]
  },
  {
   "cell_type": "code",
   "execution_count": 29,
   "metadata": {
    "id": "IpEcxj9FgVaC"
   },
   "outputs": [
    {
     "name": "stdout",
     "output_type": "stream",
     "text": [
      "1\n"
     ]
    }
   ],
   "source": [
    "# print 1st item using negative index\n",
    "print(simple_list[-5][-2])"
   ]
  },
  {
   "cell_type": "code",
   "execution_count": 30,
   "metadata": {
    "id": "a50U7mnugckO"
   },
   "outputs": [
    {
     "name": "stdout",
     "output_type": "stream",
     "text": [
      "9\n"
     ]
    }
   ],
   "source": [
    "# print 3rd item using negative index\n",
    "print(simple_list[-3][-3])#paxadi ko chai list bhitra ko list ko item"
   ]
  },
  {
   "cell_type": "code",
   "execution_count": 31,
   "metadata": {
    "id": "QakBZvK9gfUh"
   },
   "outputs": [
    {
     "name": "stdout",
     "output_type": "stream",
     "text": [
      "[2, 0]\n"
     ]
    }
   ],
   "source": [
    "# print last item using negative index\n",
    "print(simple_list[-1])"
   ]
  },
  {
   "cell_type": "markdown",
   "metadata": {
    "id": "ab__Ew1_jKu-"
   },
   "source": [
    "### 3. Slicing Lists\n",
    "- Slicing Lists means extracting part of list items.\n",
    "- Concepts of Slicing Lists is similar to Slicing Strings.\n",
    "- `Syntax: list[start:end:step]`\n",
    "\n",
    "  <img src='https://drive.google.com/uc?id=1j7BjHU8MmE0LFv1Qls9F-4h3NheDoLAD' width='500'>"
   ]
  },
  {
   "cell_type": "markdown",
   "metadata": {
    "id": "aIH86VGDjpC0"
   },
   "source": [
    "**case 1: when step is positive**"
   ]
  },
  {
   "cell_type": "code",
   "execution_count": 32,
   "metadata": {
    "id": "i4htDYIfjwX_"
   },
   "outputs": [
    {
     "name": "stdout",
     "output_type": "stream",
     "text": [
      "[[1, 9, 8, 9], [1, 8, 2, 0], [9, 1, 3, 4], [6, 7, 8, 9], [1, 2, 3, 4]]\n"
     ]
    }
   ],
   "source": [
    "# initialize simple list (refer to above example)\n",
    "simple_list=[[1,9,8,9],[1,8,2,0],[9,1,3,4],[6,7,8,9],[1,2,3,4]]\n",
    "print(simple_list)"
   ]
  },
  {
   "cell_type": "code",
   "execution_count": 33,
   "metadata": {
    "id": "CUptfwSGggpI"
   },
   "outputs": [
    {
     "name": "stdout",
     "output_type": "stream",
     "text": [
      "[[1, 9, 8, 9], [1, 8, 2, 0], [9, 1, 3, 4]]\n"
     ]
    }
   ],
   "source": [
    "# slice first 3 items using positive index\n",
    "print(simple_list[:3])"
   ]
  },
  {
   "cell_type": "code",
   "execution_count": 34,
   "metadata": {
    "id": "n6Lwl9kcjzZX"
   },
   "outputs": [
    {
     "name": "stdout",
     "output_type": "stream",
     "text": [
      "[[9, 1, 3, 4], [6, 7, 8, 9], [1, 2, 3, 4]]\n"
     ]
    }
   ],
   "source": [
    "# slice last 3 items using negative index\n",
    "print(simple_list[-3:])"
   ]
  },
  {
   "cell_type": "code",
   "execution_count": 35,
   "metadata": {
    "id": "AriUJBXXj4Ri"
   },
   "outputs": [
    {
     "name": "stdout",
     "output_type": "stream",
     "text": [
      "[[1, 8, 2, 0], [6, 7, 8, 9]]\n"
     ]
    }
   ],
   "source": [
    "# get list item at even index\n",
    "# e.g. ['S', 'r', 'n', ' ', 'n', 'e', i]\n",
    "print(simple_list[1:4:2])"
   ]
  },
  {
   "cell_type": "markdown",
   "metadata": {
    "id": "MiE9SkvYkFIj"
   },
   "source": [
    "**case 2: when step is negative**"
   ]
  },
  {
   "cell_type": "code",
   "execution_count": 36,
   "metadata": {
    "id": "Xw_yDE_qkB-P"
   },
   "outputs": [
    {
     "name": "stdout",
     "output_type": "stream",
     "text": [
      "[[6, 7, 8, 9], [1, 2, 3, 4]]\n"
     ]
    }
   ],
   "source": [
    "# slice first 3 list items using positive index\n",
    "print(simple_list[3:])"
   ]
  },
  {
   "cell_type": "code",
   "execution_count": 37,
   "metadata": {
    "id": "OAT27nN4kOkP"
   },
   "outputs": [
    {
     "name": "stdout",
     "output_type": "stream",
     "text": [
      "[[1, 9, 8, 9], [1, 8, 2, 0]]\n"
     ]
    }
   ],
   "source": [
    "# slice last 3 list items using negative index\n",
    "print(simple_list[:-3])"
   ]
  },
  {
   "cell_type": "code",
   "execution_count": 38,
   "metadata": {
    "id": "UHaPb61okTfn"
   },
   "outputs": [
    {
     "data": {
      "text/plain": [
       "['n', 'i', 'x', 'e', 'd', 'n', 'I', ' ', 'g', 'n', 'i', 'r', 't', 's']"
      ]
     },
     "execution_count": 38,
     "metadata": {},
     "output_type": "execute_result"
    }
   ],
   "source": [
    "# reverse list\n",
    "# output: ['n', 'i', 'x', 'e', 'd', 'n', 'I', ' ', 'g', 'n', 'i', 'r', 't', 'S']\n",
    "simple_list=['s','t','r','i','n','g',' ','I','n','d','e','x','i','n']\n",
    "simple_list[::-1]"
   ]
  },
  {
   "cell_type": "code",
   "execution_count": 39,
   "metadata": {
    "colab": {
     "base_uri": "https://localhost:8080/"
    },
    "executionInfo": {
     "elapsed": 3,
     "status": "ok",
     "timestamp": 1686069449504,
     "user": {
      "displayName": "Anish Thapaliya",
      "userId": "06325140887572930045"
     },
     "user_tz": -345
    },
    "id": "Y2BTl3kPkXWs",
    "outputId": "2c4d51ee-4093-435f-f716-fc99a7ac78f9"
   },
   "outputs": [
    {
     "name": "stdout",
     "output_type": "stream",
     "text": [
      "['n', 'i', 'x', 'e', 'd', 'n', 'I', ' ', 'g', 'n', 'i', 'r', 't', 's']\n"
     ]
    }
   ],
   "source": [
    "print(simple_list[::-1])"
   ]
  },
  {
   "cell_type": "markdown",
   "metadata": {
    "id": "Cbl-pK2bkuhZ"
   },
   "source": [
    "###4. Lists are mutable\n",
    "- Unlike Strings, Lists are mutable\n",
    "- It means we can change list items after its creation.\n"
   ]
  },
  {
   "cell_type": "code",
   "execution_count": 40,
   "metadata": {
    "colab": {
     "base_uri": "https://localhost:8080/"
    },
    "executionInfo": {
     "elapsed": 4,
     "status": "ok",
     "timestamp": 1686132988448,
     "user": {
      "displayName": "Anish Thapaliya",
      "userId": "06325140887572930045"
     },
     "user_tz": -345
    },
    "id": "DpFRiqVckg57",
    "outputId": "f247dbc5-7410-468c-9003-8b5cd70bee6f"
   },
   "outputs": [
    {
     "name": "stdout",
     "output_type": "stream",
     "text": [
      "['hi', 'i', 'am', 'mutable']\n"
     ]
    }
   ],
   "source": [
    "# verify lists are mutable\n",
    "mutable_list = ['hi', 'i', 'am', 'mutable']\n",
    "print(mutable_list)"
   ]
  },
  {
   "cell_type": "code",
   "execution_count": 41,
   "metadata": {
    "id": "WLfX2xDflOHs"
   },
   "outputs": [
    {
     "name": "stdout",
     "output_type": "stream",
     "text": [
      "['hello', 'i', 'am', 'mutable']\n"
     ]
    }
   ],
   "source": [
    "# change first item 'hi' to 'hello'\n",
    "mutable_list[0]=\"hello\"\n",
    "print(mutable_list)"
   ]
  },
  {
   "cell_type": "markdown",
   "metadata": {
    "id": "ppgwSvcilbcp"
   },
   "source": [
    "Assigning new value, we didn't got error. We can say Lists are mutable."
   ]
  },
  {
   "cell_type": "markdown",
   "metadata": {
    "id": "tb2H1PQhlh0E"
   },
   "source": [
    "###5. List Methods\n",
    "- Most common Lists methods are:\n",
    "  - `append()`: Methods to add an item to the end of the list.\n",
    "  - `insert()`: Methods to add an item to list at a specified index.\n",
    "  - `extend()`: Methods to append elements from another list to the current list\n",
    "  - `remove()`: Methods to remove the specified item using item name.\n",
    "  - `pop()`: Methods to remove the list item using index. By Default pop takes up the last index.\n",
    "  - `reverse()`: Methods to reverse list.\n",
    "  - `sort()`: Methods to sort the string either in ascending order or descending order. "
   ]
  },
  {
   "cell_type": "code",
   "execution_count": 42,
   "metadata": {
    "id": "XkoZYep1lgYt"
   },
   "outputs": [
    {
     "name": "stdout",
     "output_type": "stream",
     "text": [
      "[1, 2, 3, 4]\n"
     ]
    }
   ],
   "source": [
    "# Create a new list\n",
    "\n",
    "list1 = [1, 2, 3, 4]\n",
    "print(list1)"
   ]
  },
  {
   "cell_type": "code",
   "execution_count": 43,
   "metadata": {
    "id": "9epKUK2jj8gR"
   },
   "outputs": [
    {
     "name": "stdout",
     "output_type": "stream",
     "text": [
      "[1, 2, 3, 4, 5]\n"
     ]
    }
   ],
   "source": [
    "# add new item to the end of a list\n",
    "# Hint: list.append(<item>)\n",
    "list1.append(5)\n",
    "print(list1)"
   ]
  },
  {
   "cell_type": "code",
   "execution_count": 44,
   "metadata": {
    "id": "NDcVUp1jj9hR"
   },
   "outputs": [
    {
     "name": "stdout",
     "output_type": "stream",
     "text": [
      "[1, 0, 2, 3, 4, 5]\n"
     ]
    }
   ],
   "source": [
    "# add new item at index 1 using insert()\n",
    "# Hint: list1.insert(<index>, <item_to_insert>)\n",
    "list1.insert(1,0)\n",
    "print(list1)"
   ]
  },
  {
   "cell_type": "markdown",
   "metadata": {
    "id": "HQ6vJHI0ozPH"
   },
   "source": [
    "`If we run insert() methods multiple times, then item will be added at specified index and length of list will grow accordingly.`"
   ]
  },
  {
   "cell_type": "code",
   "execution_count": 45,
   "metadata": {
    "id": "_kvtllEAoy6M"
   },
   "outputs": [
    {
     "name": "stdout",
     "output_type": "stream",
     "text": [
      "[1, 2, 3, 4, 5, 6, 7, 8, 9]\n"
     ]
    }
   ],
   "source": [
    "# Given two list i.e. list1 and list2\n",
    "# extend list1 with item from list 2\n",
    "# Hint: list1.extend(list2)\n",
    "list1=[1,2,3,4]\n",
    "list2=[5,6,7,8,9]\n",
    "list1.extend(list2)\n",
    "print(list1)"
   ]
  },
  {
   "cell_type": "code",
   "execution_count": 46,
   "metadata": {
    "id": "r3O_THSdnUHA"
   },
   "outputs": [
    {
     "name": "stdout",
     "output_type": "stream",
     "text": [
      "[1, 2, 3, 4, 6, 7, 8, 9]\n"
     ]
    }
   ],
   "source": [
    "# remove specific item from list\n",
    "# Hint: list.remove(<item_name>)\n",
    "list1.remove(5)\n",
    "print(list1)"
   ]
  },
  {
   "cell_type": "code",
   "execution_count": 47,
   "metadata": {
    "id": "lJ_iOWaFrCzr"
   },
   "outputs": [
    {
     "name": "stdout",
     "output_type": "stream",
     "text": [
      "[2, 3, 4, 6, 7, 8, 9]\n"
     ]
    }
   ],
   "source": [
    "# remove item at index 1 of list\n",
    "# Hint: list1.pop(<index>)\n",
    "list1.pop(0)\n",
    "print(list1)"
   ]
  },
  {
   "cell_type": "code",
   "execution_count": 48,
   "metadata": {
    "id": "EAUuqlqRtEow"
   },
   "outputs": [
    {
     "name": "stdout",
     "output_type": "stream",
     "text": [
      "[2, 3, 4, 6, 7, 8]\n"
     ]
    }
   ],
   "source": [
    "# remove last item from list\n",
    "# Hint: list1.pop()\n",
    "list1.pop(-1)\n",
    "print(list1)"
   ]
  },
  {
   "cell_type": "code",
   "execution_count": 49,
   "metadata": {
    "id": "Ds3N7eMotL4S"
   },
   "outputs": [
    {
     "name": "stdout",
     "output_type": "stream",
     "text": [
      "[8, 7, 6, 4, 3, 2]\n"
     ]
    }
   ],
   "source": [
    "# reverse list\n",
    "# Hint: list.reverse()\n",
    "list1.reverse()\n",
    "print(list1)"
   ]
  },
  {
   "cell_type": "code",
   "execution_count": 50,
   "metadata": {
    "id": "R1_LfXGVu5vx"
   },
   "outputs": [
    {
     "name": "stdout",
     "output_type": "stream",
     "text": [
      "[2, 3, 4, 6, 7, 8]\n"
     ]
    }
   ],
   "source": [
    "# sort list in ascending order\n",
    "# hint: list.sort()\n",
    "list1.sort()\n",
    "print(list1)"
   ]
  },
  {
   "cell_type": "code",
   "execution_count": 51,
   "metadata": {
    "id": "IQEOjqOEvHs5"
   },
   "outputs": [
    {
     "name": "stdout",
     "output_type": "stream",
     "text": [
      "[8, 7, 6, 4, 3, 2]\n"
     ]
    }
   ],
   "source": [
    "# sort list in descending order\n",
    "# hint: list.sort(reverse=True)\n",
    "list1.sort(reverse=True)\n",
    "print(list1)"
   ]
  },
  {
   "cell_type": "markdown",
   "metadata": {
    "id": "cuTT1E720OPD"
   },
   "source": [
    "### 6. Join Lists\n",
    "- Given list, how can we join the list items?\n",
    "- Technique to convert list to string.\n",
    "- `Example:`\n",
    "  - input_list = ['hello', 'world']\n",
    "  - ouput_list = \"hello world\"\n",
    "\n",
    "- **syntax:** `result = separator.join(<list>)\n",
    "\n",
    "  where, separator is the string that will be used to separate the elements in the resulting string.\n"
   ]
  },
  {
   "cell_type": "code",
   "execution_count": 52,
   "metadata": {
    "id": "TcatG5wjzbKb"
   },
   "outputs": [
    {
     "name": "stdout",
     "output_type": "stream",
     "text": [
      "['hello', 'world']\n"
     ]
    }
   ],
   "source": [
    "# create new list\n",
    "new_list=['hello','world']\n",
    "print(new_list)"
   ]
  },
  {
   "cell_type": "code",
   "execution_count": 53,
   "metadata": {
    "id": "39cvJTNp0w8P"
   },
   "outputs": [
    {
     "name": "stdout",
     "output_type": "stream",
     "text": [
      "hello world\n"
     ]
    }
   ],
   "source": [
    "# join list by space to form new string\n",
    "# Hint: \" \".join(<list>)\n",
    "string=\" \".join(new_list)\n",
    "print(string)"
   ]
  },
  {
   "cell_type": "markdown",
   "metadata": {
    "id": "efByk49P2Mlm"
   },
   "source": [
    "### 7. Loop Lists\n",
    "\n",
    "- Similar to Strings, you can also loop through list items using a **for** loop.\n",
    "\n",
    "`Q. Initialize List and print list items one by one using for loop.`\n"
   ]
  },
  {
   "cell_type": "code",
   "execution_count": 54,
   "metadata": {
    "id": "3pRwdqLb2IUJ"
   },
   "outputs": [
    {
     "name": "stdout",
     "output_type": "stream",
     "text": [
      "['apple', 'banana', 'grapes', 'strawberry']\n",
      "apple\n",
      "banana\n",
      "grapes\n",
      "strawberry\n"
     ]
    }
   ],
   "source": [
    "# create list\n",
    "\n",
    "# loop through list items\n",
    "list3=['apple','banana','grapes','strawberry']\n",
    "print(list3)\n",
    "for x in list3:\n",
    "    print(x)"
   ]
  },
  {
   "cell_type": "code",
   "execution_count": 55,
   "metadata": {
    "executionInfo": {
     "elapsed": 7,
     "status": "ok",
     "timestamp": 1686230251446,
     "user": {
      "displayName": "Anish Thapaliya",
      "userId": "06325140887572930045"
     },
     "user_tz": -345
    },
    "id": "RE9jvk3oJ4uB"
   },
   "outputs": [
    {
     "name": "stdout",
     "output_type": "stream",
     "text": [
      "['apple', 'banana', 'grapes', 'strawberry']\n"
     ]
    },
    {
     "ename": "AttributeError",
     "evalue": "'list' object has no attribute 'enumerate'",
     "output_type": "error",
     "traceback": [
      "\u001b[1;31m---------------------------------------------------------------------------\u001b[0m",
      "\u001b[1;31mAttributeError\u001b[0m                            Traceback (most recent call last)",
      "Cell \u001b[1;32mIn[55], line 3\u001b[0m\n\u001b[0;32m      1\u001b[0m \u001b[38;5;66;03m# loop through list items using enumerate()\u001b[39;00m\n\u001b[0;32m      2\u001b[0m \u001b[38;5;28mprint\u001b[39m(list3)\n\u001b[1;32m----> 3\u001b[0m list3\u001b[38;5;241m.\u001b[39menumerate()\n\u001b[0;32m      4\u001b[0m \u001b[38;5;28mprint\u001b[39m(list3)\n",
      "\u001b[1;31mAttributeError\u001b[0m: 'list' object has no attribute 'enumerate'"
     ]
    }
   ],
   "source": [
    "# loop through list items using enumerate()\n",
    "print(list3)\n",
    "list3.enumerate()\n",
    "print(list3)"
   ]
  },
  {
   "cell_type": "markdown",
   "metadata": {
    "id": "qGGTPYE_4GqO"
   },
   "source": [
    "We will experiment other ways of looping using **range()** function and **while** loop in Loop Chapter."
   ]
  },
  {
   "cell_type": "markdown",
   "metadata": {
    "id": "3wEwokwtIhQb"
   },
   "source": [
    "### 8. List Comprehension\n",
    "- List comprehension offers the shortest syntax for looping through lists.\n",
    "- Syntax: **newlist = [expression for item in iterable if condition == True]**\n",
    "\n",
    "\n",
    "`Q.1 Write a python program to lowercase item in given list using list comprehension.`\n",
    "  - Input: sample_list = [\"APPLE\", \"Mango\", \"BaNaNa\", \"GRapes\"]\n",
    "  - Output: lower_list = [\"apple\", \"mango\", \"banana\", \"grapes\"]\n",
    "\n",
    "`Q.2 Given list of fruits i.e. fruit_list = ['apple', 'mango', 'banana', 'grapes', 'coffee'], Create new list named fruit_list removing item which is not fruit. Example = coffee.`\n",
    "\n",
    "`Q.3 `"
   ]
  },
  {
   "cell_type": "code",
   "execution_count": null,
   "metadata": {
    "executionInfo": {
     "elapsed": 474,
     "status": "ok",
     "timestamp": 1686230706532,
     "user": {
      "displayName": "Anish Thapaliya",
      "userId": "06325140887572930045"
     },
     "user_tz": -345
    },
    "id": "6uqJE2Kp4EVN"
   },
   "outputs": [
    {
     "name": "stdout",
     "output_type": "stream",
     "text": [
      "['Apple', 'mango', 'BaNaNa', 'Grapes']\n",
      "['apple', 'mango', 'banana', 'grapes']\n"
     ]
    }
   ],
   "source": [
    "## write your program (for Q1)\n",
    "sample_list=[\"Apple\",\"mango\",\"BaNaNa\",\"Grapes\"]\n",
    "print(sample_list)\n",
    "sample=[x.lower() for x in sample_list]\n",
    "print(sample)"
   ]
  },
  {
   "cell_type": "code",
   "execution_count": 57,
   "metadata": {
    "id": "g2Iqq79qM1kf"
   },
   "outputs": [
    {
     "name": "stdout",
     "output_type": "stream",
     "text": [
      "['apple', 'banana', 'grapes']\n"
     ]
    }
   ],
   "source": [
    "## write your program (for Q2)\n",
    "fruit_list=['apple','banana','grapes','coffee']\n",
    "fruit_list.remove('coffee')\n",
    "print(fruit_list)"
   ]
  },
  {
   "cell_type": "markdown",
   "metadata": {
    "id": "U2RL3vGjLvTz"
   },
   "source": [
    "### 9. List exercise\n"
   ]
  },
  {
   "cell_type": "markdown",
   "metadata": {
    "id": "5XbJA7_JPkBi"
   },
   "source": [
    "**Q.1 Write a python program that initializes non empty list of words with length = 5. Display longest word with its length.**\n",
    "\n",
    "  `sample_list: ['mango', 'banana', 'kiwi', 'apple', 'grapes']`  \n",
    "  `output: banana, 6`  \n",
    "\n",
    "**Q.2 Write a python program to sum all the items in a list.**\n",
    "\n",
    "  `sample_list: [1, 2, 3, 4, 5]`\n",
    "  `output: sum = 15`\n",
    "\n",
    "\n",
    "**Q.3 Write a python program to get the largest number from a list.**\n",
    "\n",
    "  `sample_list: [10, 20, 30, 100, 40]`  \n",
    "  `output: largest number = 100`\n",
    "\n",
    "\n",
    "**Q.4 Write a python program to get the smallest number from a list.**\n",
    "\n",
    "  `sample_list: [-1, 0, 1, 2]`\n",
    "  `output: smallest number = -1`\n",
    "\n",
    "**Q.5 Write a Python program to count the number of strings where the string length is 2 or more and the first and last character are same from a given list of strings.**\n",
    "\n",
    "  `Input: sample_list = ['abc', 'xyz', 'aba', '1221']`  \n",
    "  `output: str_count = 2`\n",
    "\n",
    "**Q.6 Write a python program to check a list is empty or not.**\n",
    "\n",
    "**Q.7 Write a python program to insert a given string at the beginning of all items in a list.**\n",
    "\n",
    "  `sample_list = [1, 2, 3, 4]`  \n",
    "  `str_to_inser = \"emp\"`  \n",
    "  `output_list = ['emp1', 'emp2', 'emp3', 'emp4']`"
   ]
  },
  {
   "cell_type": "code",
   "execution_count": 73,
   "metadata": {
    "id": "1hEmhNgFUQFu"
   },
   "outputs": [
    {
     "name": "stdout",
     "output_type": "stream",
     "text": [
      "banana 6\n"
     ]
    }
   ],
   "source": [
    "#Q.1\n",
    "sample_list=['mango','banana','kiwi','apple','grapes']\n",
    "result=max(sample_list,key=len)\n",
    "print(result,len(result))"
   ]
  },
  {
   "cell_type": "code",
   "execution_count": 74,
   "metadata": {
    "id": "KBhzVIHaUQC1"
   },
   "outputs": [
    {
     "name": "stdout",
     "output_type": "stream",
     "text": [
      "15\n"
     ]
    }
   ],
   "source": [
    "#Q.2\n",
    "sample_list=[1,2,3,4,5]\n",
    "x=sum(sample_list)\n",
    "print(x)"
   ]
  },
  {
   "cell_type": "code",
   "execution_count": 79,
   "metadata": {
    "id": "RcYwIRFYVndJ"
   },
   "outputs": [
    {
     "name": "stdout",
     "output_type": "stream",
     "text": [
      "100\n"
     ]
    }
   ],
   "source": [
    "#Q.3\n",
    "sample_list=[10,20,30,100,40,]\n",
    "x=max(sample_list)\n",
    "print(x)\n"
   ]
  },
  {
   "cell_type": "code",
   "execution_count": 80,
   "metadata": {},
   "outputs": [
    {
     "name": "stdout",
     "output_type": "stream",
     "text": [
      "-1\n"
     ]
    }
   ],
   "source": [
    "#Q.4\n",
    "sample_list=[-1,0,1,2,]\n",
    "x=min(sample_list)\n",
    "print(x)"
   ]
  },
  {
   "cell_type": "code",
   "execution_count": null,
   "metadata": {},
   "outputs": [],
   "source": [
    "#Q.5\n",
    "sample_list=['abc','xyz','aba','1221']"
   ]
  },
  {
   "cell_type": "code",
   "execution_count": 84,
   "metadata": {},
   "outputs": [
    {
     "name": "stdout",
     "output_type": "stream",
     "text": [
      "['emp1', 2, 3, 4]\n",
      "['emp1', 'emp2', 3, 4]\n",
      "['emp1', 'emp2', 'emp3', 4]\n",
      "['emp1', 'emp2', 'emp3', 'emp4']\n"
     ]
    }
   ],
   "source": [
    "#Q.7\n",
    "sample_list=[1,2,3,4]\n",
    "string_to_insert=\"emp\"\n",
    "\n",
    "for i in range(len(sample_list)):\n",
    "    sample_list[i] = string_to_insert + str(sample_list[i])\n",
    "    print(sample_list)"
   ]
  }
 ],
 "metadata": {
  "colab": {
   "authorship_tag": "ABX9TyN3JavKRBcUAOiv0Au2jsNb",
   "provenance": []
  },
  "kernelspec": {
   "display_name": "Python 3 (ipykernel)",
   "language": "python",
   "name": "python3"
  },
  "language_info": {
   "codemirror_mode": {
    "name": "ipython",
    "version": 3
   },
   "file_extension": ".py",
   "mimetype": "text/x-python",
   "name": "python",
   "nbconvert_exporter": "python",
   "pygments_lexer": "ipython3",
   "version": "0.0.0"
  }
 },
 "nbformat": 4,
 "nbformat_minor": 4
}
