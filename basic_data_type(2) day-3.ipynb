{
 "cells": [
  {
   "cell_type": "markdown",
   "metadata": {
    "id": "pYAL7fboAZFn"
   },
   "source": [
    "## Python Data Types\n",
    "- Data Types refers to the classification of data values based on their characteristics.\n",
    "- Python Data Type means how Python represents different types of data.\n",
    "- **Categories**\n",
    "  1. `Basic Data Types`:\n",
    "    - They are fundamental Data Types provided by the language itself.\n",
    "    - Example: Integer, Float, Complex Numbers, Boolean, String\n",
    "\n",
    "  2. `Compound Data Types`:\n",
    "    - They are composed of multiple basic data types or other compound data types.\n",
    "    - Example: List, Tuple, Set, Dictionary, etc\n",
    "\n",
    "\n",
    "<img src='https://drive.google.com/uc?id=12s3_weoabmPHMpk3GNMjtgNxL5ngZCOj'>"
   ]
  },
  {
   "cell_type": "markdown",
   "metadata": {
    "id": "Oy2l2S6VD4Rx"
   },
   "source": [
    "## 1. Numbers in Python\n",
    "- Python has mainly 3 categories of numbers i.e.  \n",
    "  i. `Integer`: whole number (no decimal point). Can be postive or negative.  \n",
    "  ii. `Float`: Real Numbers. Includes decimal points or use exponential (e) to define numbers  \n",
    "  iii. `Complex`: Expressed as real and imaginary part i.e **a + jb**   \n",
    "  \n",
    "\n",
    "| Examples                 | Number \"Type\"        |\n",
    "|--------------------------|----------------------|\n",
    "| 1, 2, -5, 1000           | Integers             |\n",
    "| 1.2, -0.5, 2e2, 3E2     | Floating-point numbers |\n",
    "| 3+4j, -2j, 1+2j, -5-6j | Complex numbers      |\n"
   ]
  },
  {
   "cell_type": "markdown",
   "metadata": {
    "id": "FanG-i1syKvf"
   },
   "source": [
    "**NoneType**  \n",
    "- The `None` keyword is used to define a null value, or no value at all.\n",
    "- `Uses`: can be treated as placeholder object\n",
    "- None is not the same as 0, False, or an empty string.\n",
    "- None is a data type of its own NoneType, and only None can be None.\n"
   ]
  },
  {
   "cell_type": "code",
   "execution_count": 8,
   "metadata": {
    "id": "x_8rpt7uyy8L"
   },
   "outputs": [
    {
     "name": "stdout",
     "output_type": "stream",
     "text": [
      "None\n"
     ]
    }
   ],
   "source": [
    "# Uncomment below line and initialize variables  \"non_value\" to None\n",
    "\n",
    "non_value = None\n",
    "print(non_value)"
   ]
  },
  {
   "cell_type": "code",
   "execution_count": 6,
   "metadata": {
    "id": "PNYye5AEzFB3"
   },
   "outputs": [
    {
     "name": "stdout",
     "output_type": "stream",
     "text": [
      "<class 'NoneType'>\n"
     ]
    }
   ],
   "source": [
    "# Get data type of variable \"non_value\" and\n",
    "# print the result \n",
    "print(type(non_value))"
   ]
  },
  {
   "cell_type": "markdown",
   "metadata": {
    "id": "ZsEajcQikhWG"
   },
   "source": [
    "**Integer Type**"
   ]
  },
  {
   "cell_type": "code",
   "execution_count": 7,
   "metadata": {
    "id": "JfNBTTfQAQ1Z"
   },
   "outputs": [
    {
     "name": "stdout",
     "output_type": "stream",
     "text": [
      "5\n"
     ]
    }
   ],
   "source": [
    "# assign integer value 5 to variable named \"int_value\" and,\n",
    "# print the result\n",
    "\n",
    "int_value = 5  # None placeholder object\n",
    "print(int_value)"
   ]
  },
  {
   "cell_type": "code",
   "execution_count": 9,
   "metadata": {
    "id": "oElXcETmko5n"
   },
   "outputs": [
    {
     "name": "stdout",
     "output_type": "stream",
     "text": [
      "10\n"
     ]
    }
   ],
   "source": [
    "# Variable reassignment\n",
    "# assign new value 10 to same variable named \"int_value\" and,\n",
    "# print the result\n",
    "int_value=10\n",
    "print(int_value)"
   ]
  },
  {
   "cell_type": "markdown",
   "metadata": {
    "id": "ffI92aYllhQ_"
   },
   "source": [
    "We can see, Due to `Dynamic Typing` Python allows us to dynamically reassign the values assigned to the variables."
   ]
  },
  {
   "cell_type": "code",
   "execution_count": 10,
   "metadata": {
    "id": "tvyHWdhVp7zE"
   },
   "outputs": [
    {
     "data": {
      "text/plain": [
       "140736518263880"
      ]
     },
     "execution_count": 10,
     "metadata": {},
     "output_type": "execute_result"
    }
   ],
   "source": [
    "# Display id of variable \"int_value\"\n",
    "# hint: id()\n",
    "id(int_value)"
   ]
  },
  {
   "cell_type": "code",
   "execution_count": 26,
   "metadata": {
    "id": "lnmIx0rylgeG"
   },
   "outputs": [
    {
     "name": "stdout",
     "output_type": "stream",
     "text": [
      "<class 'int'>\n"
     ]
    }
   ],
   "source": [
    "# Display type of the variable \"int_value\"\n",
    "# use: type() function\n",
    "\n",
    "print(type(int_value) )\n"
   ]
  },
  {
   "cell_type": "markdown",
   "metadata": {
    "id": "mLPGhMyJoW52"
   },
   "source": [
    "In output we can see, `Data Type: <class 'int'>`. It means when we create variables, we are actually creating object of that Data Type (Integer). So, in python everything is class and object."
   ]
  },
  {
   "cell_type": "code",
   "execution_count": 12,
   "metadata": {
    "id": "6E0OMShpoQlx"
   },
   "outputs": [
    {
     "data": {
      "text/plain": [
       "True"
      ]
     },
     "execution_count": 12,
     "metadata": {},
     "output_type": "execute_result"
    }
   ],
   "source": [
    "# Verify integer type using isinstance() function\n",
    "# hint: isinstance(var_name, int)\n",
    "isinstance(int_value,int)"
   ]
  },
  {
   "cell_type": "markdown",
   "metadata": {
    "id": "D8qNcUNmzskw"
   },
   "source": [
    "**Float Type**"
   ]
  },
  {
   "cell_type": "code",
   "execution_count": 13,
   "metadata": {
    "id": "2Cr4hNwzpTzH"
   },
   "outputs": [],
   "source": [
    "# assign float value 2e1 to variable named \"float_value\"\n",
    "# print the result\n",
    "\n",
    "float_value = 2e1"
   ]
  },
  {
   "cell_type": "code",
   "execution_count": 14,
   "metadata": {
    "id": "W6QLPcJ837cJ"
   },
   "outputs": [
    {
     "data": {
      "text/plain": [
       "2619020184944"
      ]
     },
     "execution_count": 14,
     "metadata": {},
     "output_type": "execute_result"
    }
   ],
   "source": [
    "# get variable data type and print the result\n",
    "id(float_value)"
   ]
  },
  {
   "cell_type": "code",
   "execution_count": 15,
   "metadata": {
    "id": "rbuNAG-B4Ig7"
   },
   "outputs": [
    {
     "data": {
      "text/plain": [
       "True"
      ]
     },
     "execution_count": 15,
     "metadata": {},
     "output_type": "execute_result"
    }
   ],
   "source": [
    "# verify float type using isinstance() function\n",
    "isinstance(float_value,float)"
   ]
  },
  {
   "cell_type": "code",
   "execution_count": 16,
   "metadata": {
    "id": "pWZj8Q354MXf"
   },
   "outputs": [
    {
     "data": {
      "text/plain": [
       "2619020184944"
      ]
     },
     "execution_count": 16,
     "metadata": {},
     "output_type": "execute_result"
    }
   ],
   "source": [
    "# Display id of the variable \"float_value\"\n",
    "id(float_value)"
   ]
  },
  {
   "cell_type": "code",
   "execution_count": 1,
   "metadata": {
    "id": "c-2VQFeT3lMd"
   },
   "outputs": [
    {
     "name": "stdout",
     "output_type": "stream",
     "text": [
      "100.11\n"
     ]
    }
   ],
   "source": [
    "# variable reassignment\n",
    "#\n",
    "# assign new float value say 100.11 to same variable named \"float_value\" and,\n",
    "# print the result\n",
    "\n",
    "float_value=100.11\n",
    "print(float_value)"
   ]
  },
  {
   "cell_type": "code",
   "execution_count": 2,
   "metadata": {
    "id": "NyXSsqOr35iO"
   },
   "outputs": [
    {
     "name": "stdout",
     "output_type": "stream",
     "text": [
      "<built-in function id>\n"
     ]
    }
   ],
   "source": [
    "# get variable data type and,\n",
    "# print the result\n",
    "id(float_value)\n",
    "print(id)"
   ]
  },
  {
   "cell_type": "code",
   "execution_count": 19,
   "metadata": {
    "id": "CC9yg5cj4-BP"
   },
   "outputs": [
    {
     "name": "stdout",
     "output_type": "stream",
     "text": [
      "100.11\n"
     ]
    }
   ],
   "source": [
    "# Display id of the variable \"float_value\" after variable reassignment\n",
    "id(float_value)\n",
    "print(float_value)"
   ]
  },
  {
   "cell_type": "markdown",
   "metadata": {
    "id": "xEWyIwgA5C39"
   },
   "source": [
    "As we can see, `id` changes after variable reassignment, since they point to different memory address after variable assignment by new value."
   ]
  },
  {
   "cell_type": "markdown",
   "metadata": {
    "id": "g0A15EG-6pOc"
   },
   "source": [
    "**Complex Type**\n",
    "- consist of real part and imaginary part: a + jb\n",
    "- E.g. \n"
   ]
  },
  {
   "cell_type": "code",
   "execution_count": 2,
   "metadata": {
    "id": "VCJ8mvGb5bH-"
   },
   "outputs": [
    {
     "name": "stdout",
     "output_type": "stream",
     "text": [
      "(2+1j)\n"
     ]
    }
   ],
   "source": [
    "# assign complex number 2+jb to variable named \"complex_value\"\n",
    "# print the result\n",
    "complex_value=2+1j\n",
    "print(complex_value)\n",
    "\n"
   ]
  },
  {
   "cell_type": "code",
   "execution_count": 5,
   "metadata": {
    "id": "8pG_o5n1vpS4"
   },
   "outputs": [
    {
     "name": "stdout",
     "output_type": "stream",
     "text": [
      "2.0\n",
      "1.0\n"
     ]
    }
   ],
   "source": [
    "# extract imaginary part and real part separately\n",
    "# hint: .real, .imag\n",
    "print(complex_value.real)\n",
    "print(complex_value.imag)"
   ]
  },
  {
   "cell_type": "markdown",
   "metadata": {
    "id": "t5mxl9o_v4Fy"
   },
   "source": [
    "Optionally, you can see all the attributes and methods of the object using `dir()` built in function. \n",
    "\n",
    "Example: dir(complex_value)"
   ]
  },
  {
   "cell_type": "code",
   "execution_count": 15,
   "metadata": {
    "id": "gotE2bNSwLid"
   },
   "outputs": [
    {
     "name": "stdout",
     "output_type": "stream",
     "text": [
      "['__abs__', '__add__', '__bool__', '__class__', '__complex__', '__delattr__', '__dir__', '__doc__', '__eq__', '__format__', '__ge__', '__getattribute__', '__getnewargs__', '__getstate__', '__gt__', '__hash__', '__init__', '__init_subclass__', '__le__', '__lt__', '__mul__', '__ne__', '__neg__', '__new__', '__pos__', '__pow__', '__radd__', '__reduce__', '__reduce_ex__', '__repr__', '__rmul__', '__rpow__', '__rsub__', '__rtruediv__', '__setattr__', '__sizeof__', '__str__', '__sub__', '__subclasshook__', '__truediv__', 'conjugate', 'imag', 'real']\n"
     ]
    }
   ],
   "source": [
    "# list attributes and methods of complex object type\n",
    "# use dir() built in function\n",
    "dir(complex_value)\n",
    "print(dir(complex_value))"
   ]
  },
  {
   "cell_type": "code",
   "execution_count": 14,
   "metadata": {
    "id": "GhteCe41wYf9"
   },
   "outputs": [
    {
     "name": "stdout",
     "output_type": "stream",
     "text": [
      "<built-in function id>\n"
     ]
    }
   ],
   "source": [
    "# get complex variable data type and print the result\n",
    "id(complex_value)\n",
    "print(id)"
   ]
  },
  {
   "cell_type": "markdown",
   "metadata": {
    "id": "qjAmq7eNyhjH"
   },
   "source": [
    "- **complex()**: \n",
    "  - function to create complex numbers with Integer/Float Type parameters.\n",
    "  - returns a complex numbers (real + imaginary) when real and imaginary parts are passed.\n",
    "  - Syntax: complex(real_part, imaginary_part)\n",
    "    - Example: complex(1, 2) --> 1+2j\n",
    "  - It can also converts a string to a complex number.\n",
    "    - If first argument is string, then second argument shouldn't be passed else will raise TypeError.\n",
    "      - e.g. complex(\"2\", \"3j\") --> False\n",
    "    - Also, string must not contain whitespace around + or - operator else it \n",
    "  will raise ValueError in Python.\n",
    "      - e.g. complex(\"3 + 2j\")\n",
    "\n",
    "\n",
    "  - `Exercise`\n",
    "    1. Create a complex number 0j. \n",
    "      - Hint: do not pass any arguments.\n",
    "    2. Create a complex number 2+3j using complex() function passing integer 2 and 3. Get the data type, and print the result.\n",
    "    3. Create a complex number 2+3j using complex() function passing string as argument. Get the data type and print the result.\n",
    "  \n",
    "\n"
   ]
  },
  {
   "cell_type": "code",
   "execution_count": 10,
   "metadata": {
    "id": "QjQNQzT74eeS"
   },
   "outputs": [
    {
     "name": "stdout",
     "output_type": "stream",
     "text": [
      "<class 'complex'>\n"
     ]
    }
   ],
   "source": [
    "# 1. Create a complex number 0j. Get the Data Type and Print the result.\n",
    "complex()\n",
    "print(complex)"
   ]
  },
  {
   "cell_type": "code",
   "execution_count": 13,
   "metadata": {
    "id": "7iK3BaUc04A6"
   },
   "outputs": [
    {
     "name": "stdout",
     "output_type": "stream",
     "text": [
      "<built-in function id>\n",
      "(2+3j)\n"
     ]
    }
   ],
   "source": [
    "# 2. Create a complex number 2+3j using complex() function passing integer 2 and 3.\n",
    "complex(2,3)\n",
    "id(complex(2,3))\n",
    "print(id)\n",
    "print(complex(2,3))"
   ]
  },
  {
   "cell_type": "code",
   "execution_count": null,
   "metadata": {
    "id": "aslgCBXz4lX6"
   },
   "outputs": [],
   "source": [
    "# 3. Create a complex number 2+3j using complex() function passing string as argument. Get the data type and print the result.\n"
   ]
  },
  {
   "cell_type": "markdown",
   "metadata": {
    "id": "CVO7asWr5Tbf"
   },
   "source": [
    "## 2. Boolean Type \n",
    "- Boolean Type holds one of 2 values `True` or `False`.\n",
    "- Case sensitive: True != true  or  False != false\n",
    "- Output of listed operators are of Boolean Type\n",
    "  - `Comparison Operators (7 == 7)`\n",
    "  - `Logical Operators (not(1<5))`\n",
    "  - `Identity Operators (x is y)`\n"
   ]
  },
  {
   "cell_type": "code",
   "execution_count": 18,
   "metadata": {
    "id": "M2saNcKI5S8e"
   },
   "outputs": [
    {
     "name": "stdout",
     "output_type": "stream",
     "text": [
      "None\n"
     ]
    }
   ],
   "source": [
    "# create a variable of boolean type named \"bool_val\"\n",
    "bool_val = None\n",
    "print(bool_val)"
   ]
  },
  {
   "cell_type": "code",
   "execution_count": 27,
   "metadata": {
    "id": "AoyKbXctF1zN"
   },
   "outputs": [
    {
     "data": {
      "text/plain": [
       "NoneType"
      ]
     },
     "execution_count": 27,
     "metadata": {},
     "output_type": "execute_result"
    }
   ],
   "source": [
    "# get the type of boolean variable \n",
    "type(bool_val)"
   ]
  },
  {
   "cell_type": "markdown",
   "metadata": {
    "id": "r0QNslZTHLrU"
   },
   "source": [
    "**Most values are True**  \n",
    "- Any number is True (+ve, -ve) except 0.\n",
    "- Any string is True, except empty string.\n",
    "- Any list, tuple, set, and dictionary are True, except empty ones.\n",
    "\n",
    "You can use **bool()** function to evaluate any values, that returns `True` or `False`"
   ]
  },
  {
   "cell_type": "code",
   "execution_count": 31,
   "metadata": {
    "id": "m_0dc_EFGOO6"
   },
   "outputs": [
    {
     "name": "stdout",
     "output_type": "stream",
     "text": [
      "10\n",
      "True\n"
     ]
    }
   ],
   "source": [
    "# Evaluate using bool() for \n",
    "# 1. any non zero integer, float \n",
    "# 2. any non empty string\n",
    "#\n",
    "# Hint: bool(value)\n",
    "\n",
    "print(int_value)\n",
    "bool(int_value)\n",
    "print(bool(int_value))\n"
   ]
  },
  {
   "cell_type": "markdown",
   "metadata": {
    "id": "_wUTCL1yII3E"
   },
   "source": [
    "**Some values are False**  \n",
    "- number `0 or 0.0` evaluates to False\n",
    "- Value `None` evaluates to False\n",
    "- False `evaluates` to False\n",
    "- empty string `\"\"` evaluates to False\n",
    "- Empty values, `(), [], {}`, evaluates to False"
   ]
  },
  {
   "cell_type": "code",
   "execution_count": 32,
   "metadata": {
    "id": "VC7b59BrIFOo"
   },
   "outputs": [
    {
     "name": "stdout",
     "output_type": "stream",
     "text": [
      "False\n",
      "False\n"
     ]
    }
   ],
   "source": [
    "# Experiment above cases with bool() function\n",
    "print(bool(0))\n",
    "print(bool(0.0))\n"
   ]
  },
  {
   "cell_type": "markdown",
   "metadata": {
    "id": "8_wI-iTnGMsQ"
   },
   "source": [
    "**Python Conditions quick intro**\n",
    "\n",
    "Q. Write a python program to get two inputs a and b from user and print message\n",
    "  - \"a is greater than b\" if a > b\n",
    "  - \"a is equal to b\" if a = b\n",
    "  - \"a is less than b\" if a < b"
   ]
  },
  {
   "cell_type": "code",
   "execution_count": 1,
   "metadata": {
    "id": "IR7jwGZ0GLTt"
   },
   "outputs": [
    {
     "name": "stdout",
     "output_type": "stream",
     "text": [
      "b is greater than a\n"
     ]
    }
   ],
   "source": [
    "## write your program here\n",
    "a = input(\"enter the first number:\")\n",
    "b = input(\"enter second number:\")\n",
    "if a==b:\n",
    "    print(\"a is equal to b\")\n",
    "elif a>b:\n",
    "        print(\"a is greater than b\")\n",
    "else :\n",
    "      print(\"b is greater than a\")\n",
    "      "
   ]
  },
  {
   "cell_type": "markdown",
   "metadata": {
    "id": "Sb4A71K7OfkA"
   },
   "source": [
    "**Given a = 10 and b = 20, what is the output of a and b?** Why?"
   ]
  },
  {
   "cell_type": "code",
   "execution_count": 2,
   "metadata": {},
   "outputs": [
    {
     "name": "stdout",
     "output_type": "stream",
     "text": [
      "b is greater than a\n"
     ]
    }
   ],
   "source": [
    "# see the result\n",
    "a = 10\n",
    "b=20\n",
    "if a==b:\n",
    "    print(\"a is equal to b\")\n",
    "elif a>b:\n",
    "        print(\"a is greater than b\")\n",
    "else :\n",
    "      print(\"b is greater than a\")\n",
    "      "
   ]
  }
 ],
 "metadata": {
  "colab": {
   "authorship_tag": "ABX9TyPP1eO9Dg2ZoPtd204dqOE0",
   "provenance": []
  },
  "kernelspec": {
   "display_name": "Python 3 (ipykernel)",
   "language": "python",
   "name": "python3"
  },
  "language_info": {
   "codemirror_mode": {
    "name": "ipython",
    "version": 3
   },
   "file_extension": ".py",
   "mimetype": "text/x-python",
   "name": "python",
   "nbconvert_exporter": "python",
   "pygments_lexer": "ipython3",
   "version": "0.0.0"
  }
 },
 "nbformat": 4,
 "nbformat_minor": 4
}
